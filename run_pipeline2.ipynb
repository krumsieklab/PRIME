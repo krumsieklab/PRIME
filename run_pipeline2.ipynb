{
 "cells": [
  {
   "cell_type": "markdown",
   "metadata": {},
   "source": [
    "# running pipeline 2\n",
    "\n",
    "10/31/23 creation\n",
    "\n",
    "The purpose of this file is to now run the pipeline, but also to  that has been updated. It now has the files saved so you can load it\n",
    "\n",
    "In addition, the utils has been changed to use the dataloader class to simply get all the information instead of defining all of them then taking all the \n",
    "\n",
    "And CV now is able to handle the use of neural networks\n",
    "\n",
    "Finally, a github was created to ease the use of all of these tools, and keep track of versions"
   ]
  },
  {
   "cell_type": "code",
   "execution_count": null,
   "metadata": {},
   "outputs": [],
   "source": []
  }
 ],
 "metadata": {
  "language_info": {
   "name": "python"
  }
 },
 "nbformat": 4,
 "nbformat_minor": 2
}
