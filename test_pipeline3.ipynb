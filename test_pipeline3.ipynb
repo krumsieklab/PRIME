{
 "cells": [
  {
   "cell_type": "markdown",
   "metadata": {},
   "source": [
    "# testing pipeline 3\n",
    "\n",
    "The purpose of this is to test how to incorporate the deep learning models with my class"
   ]
  }
 ],
 "metadata": {
  "language_info": {
   "name": "python"
  }
 },
 "nbformat": 4,
 "nbformat_minor": 2
}
