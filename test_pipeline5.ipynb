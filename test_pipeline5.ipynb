{
 "cells": [
  {
   "cell_type": "markdown",
   "metadata": {},
   "source": [
    "# testing pipeline 5\n",
    "11/15\n",
    "\n",
    "The purpose of this file is to work on adapting a tokenizer training method like in scgpt. Idea feiyang proposed that makes more sense than what I would have done otherwise\n",
    "\n",
    "Basically embed protein names via some token, then do some linear network for the other one"
   ]
  },
  {
   "cell_type": "code",
   "execution_count": 2,
   "metadata": {},
   "outputs": [
    {
     "name": "stderr",
     "output_type": "stream",
     "text": [
      "Seed set to 42\n"
     ]
    }
   ],
   "source": [
    "import numpy as np\n",
    "import matplotlib.pyplot as plt\n",
    "import pandas as pd\n",
    "import seaborn as sns\n",
    "import os\n",
    "import torch\n",
    "import torch.nn as nn\n",
    "import pytorch_lightning as pl\n",
    "from pytorch_lightning import seed_everything\n",
    "from torch import Tensor\n",
    "\n",
    "seed_everything(42)\n",
    "\n",
    "\n",
    "from utils import *\n",
    "from sklearn.metrics import mean_squared_error\n",
    "# from transformers import GPT2Model, GPT2Tokenizer\n",
    "\n",
    "dataloader = LoadData(impute='KNN',load = True)\n",
    "cv = CV(dataloader)"
   ]
  },
  {
   "cell_type": "code",
   "execution_count": 8,
   "metadata": {},
   "outputs": [],
   "source": [
    "# here's the stolen class\n",
    "\n",
    "class ContinuousValueEncoder(nn.Module):\n",
    "    \"\"\"\n",
    "    Encode real number values to a vector using neural nets projection.\n",
    "    \"\"\"\n",
    "\n",
    "    def __init__(self, d_model: int = 1024, dropout: float = 0.1, max_value: int = 512):\n",
    "        super().__init__()\n",
    "        self.dropout = nn.Dropout(p=dropout)\n",
    "        self.linear1 = nn.Linear(1, d_model)\n",
    "        self.activation = nn.ReLU()\n",
    "        self.linear2 = nn.Linear(d_model, d_model)\n",
    "        self.norm = nn.LayerNorm(d_model)\n",
    "        self.max_value = max_value\n",
    "\n",
    "    def forward(self, x: Tensor) -> Tensor:\n",
    "        \"\"\"\n",
    "        Args:\n",
    "            x: Tensor, shape [batch_size, seq_len]\n",
    "        \"\"\"\n",
    "        # TODO: test using actual embedding layer if input is categorical\n",
    "        # expand last dimension\n",
    "        x = x.unsqueeze(-1)\n",
    "        # clip x to [-inf, max_value]\n",
    "        #x = torch.clamp(x, max=self.max_value) # Ignored for now, doesn't really make sense\n",
    "        x = self.activation(self.linear1(x))\n",
    "        x = self.linear2(x)\n",
    "        x = self.norm(x)\n",
    "        return self.dropout(x)"
   ]
  },
  {
   "cell_type": "code",
   "execution_count": 10,
   "metadata": {},
   "outputs": [
    {
     "name": "stdout",
     "output_type": "stream",
     "text": [
      "torch.Size([2, 251, 1])\n"
     ]
    }
   ],
   "source": [
    "x = torch.tensor(cv.met[:2,:]).float()\n",
    "print(x.unsqueeze(-1).shape)"
   ]
  },
  {
   "cell_type": "code",
   "execution_count": 12,
   "metadata": {},
   "outputs": [
    {
     "name": "stdout",
     "output_type": "stream",
     "text": [
      "torch.Size([2, 251, 1024])\n"
     ]
    }
   ],
   "source": [
    "#run it through the model\n",
    "encoder = ContinuousValueEncoder()\n",
    "y = encoder(x)\n",
    "print(y.shape)\n",
    "#it's perfect, gives it 251x1024"
   ]
  },
  {
   "cell_type": "code",
   "execution_count": 14,
   "metadata": {},
   "outputs": [
    {
     "name": "stdout",
     "output_type": "stream",
     "text": [
      "(251,)\n",
      "X20280.0.0\n"
     ]
    }
   ],
   "source": [
    "#now that we have this network,  this give sus each of our values as a 1024 vector, let's just go ahead and ignore that\n",
    "#now find some way to embed my categorical variables and then just add it to each of the elements of the vector\n",
    "#so the output should be batch size x 1024 because that will be broadcasted to each of the samples of the vector\n",
    "#each sample has its own value using that embedding\n",
    "print(cv.m_cols.shape)\n",
    "print(cv.m_cols[0])"
   ]
  },
  {
   "cell_type": "code",
   "execution_count": 15,
   "metadata": {},
   "outputs": [],
   "source": [
    "class CategoryValueEncoder(nn.Module):\n",
    "    def __init__(\n",
    "        self,\n",
    "        num_embeddings: int,\n",
    "        embedding_dim: int,\n",
    "        padding_idx: int = None,\n",
    "    ):\n",
    "        super().__init__()\n",
    "        self.embedding = nn.Embedding(\n",
    "            num_embeddings, embedding_dim, padding_idx=padding_idx\n",
    "        )\n",
    "        self.enc_norm = nn.LayerNorm(embedding_dim)\n",
    "\n",
    "    def forward(self, x: Tensor) -> Tensor:\n",
    "        x = x.long()\n",
    "        x = self.embedding(x)  # (batch, seq_len, embsize)\n",
    "        x = self.enc_norm(x)\n",
    "        return x\n",
    "    \n",
    "#num embeddings means input the metabolite index which is 0 to 251"
   ]
  },
  {
   "cell_type": "code",
   "execution_count": 21,
   "metadata": {},
   "outputs": [
    {
     "name": "stdout",
     "output_type": "stream",
     "text": [
      "torch.Size([1024])\n",
      "tensor([-0.5191, -0.4254, -0.6439,  0.4114, -0.3544,  2.0380,  0.1668,  0.2545,\n",
      "        -0.1622, -1.6150], grad_fn=<SliceBackward0>)\n",
      "torch.Size([1024])\n",
      "tensor([ 0.4662, -0.4237, -0.5169, -0.3998, -1.0081, -0.3986, -0.4728,  0.2921,\n",
      "        -0.9745, -0.9531], grad_fn=<SliceBackward0>)\n",
      "error: index out of range in self\n"
     ]
    }
   ],
   "source": [
    "#initialize\n",
    "cat_encoder = CategoryValueEncoder(num_embeddings = 251, embedding_dim = 1024)\n",
    "#run it through\n",
    "y = cat_encoder(torch.tensor(0))\n",
    "print(y.shape)\n",
    "print(y[0:10])\n",
    "z = cat_encoder(torch.tensor(250))\n",
    "print(z.shape)\n",
    "print(z[0:10])\n",
    "try:\n",
    "    print(cat_encoder(torch.tensor(251)))\n",
    "except Exception as e:\n",
    "    print('error:', e)\n",
    "    \n",
    "#see, it does work as intended\n",
    "#very different indeed"
   ]
  },
  {
   "cell_type": "code",
   "execution_count": 23,
   "metadata": {},
   "outputs": [
    {
     "name": "stdout",
     "output_type": "stream",
     "text": [
      "torch.Size([10, 1024])\n"
     ]
    }
   ],
   "source": [
    "#let's try a longer tensor of multiple values\n",
    "y = cat_encoder(torch.tensor([0,1,2,3,4,5,6,7,8,9]))\n",
    "print(y.shape)"
   ]
  },
  {
   "cell_type": "code",
   "execution_count": 24,
   "metadata": {},
   "outputs": [
    {
     "data": {
      "text/plain": [
       "tensor([  0,   1,   2,   3,   4,   5,   6,   7,   8,   9,  10,  11,  12,  13,\n",
       "         14,  15,  16,  17,  18,  19,  20,  21,  22,  23,  24,  25,  26,  27,\n",
       "         28,  29,  30,  31,  32,  33,  34,  35,  36,  37,  38,  39,  40,  41,\n",
       "         42,  43,  44,  45,  46,  47,  48,  49,  50,  51,  52,  53,  54,  55,\n",
       "         56,  57,  58,  59,  60,  61,  62,  63,  64,  65,  66,  67,  68,  69,\n",
       "         70,  71,  72,  73,  74,  75,  76,  77,  78,  79,  80,  81,  82,  83,\n",
       "         84,  85,  86,  87,  88,  89,  90,  91,  92,  93,  94,  95,  96,  97,\n",
       "         98,  99, 100, 101, 102, 103, 104, 105, 106, 107, 108, 109, 110, 111,\n",
       "        112, 113, 114, 115, 116, 117, 118, 119, 120, 121, 122, 123, 124, 125,\n",
       "        126, 127, 128, 129, 130, 131, 132, 133, 134, 135, 136, 137, 138, 139,\n",
       "        140, 141, 142, 143, 144, 145, 146, 147, 148, 149, 150, 151, 152, 153,\n",
       "        154, 155, 156, 157, 158, 159, 160, 161, 162, 163, 164, 165, 166, 167,\n",
       "        168, 169, 170, 171, 172, 173, 174, 175, 176, 177, 178, 179, 180, 181,\n",
       "        182, 183, 184, 185, 186, 187, 188, 189, 190, 191, 192, 193, 194, 195,\n",
       "        196, 197, 198, 199, 200, 201, 202, 203, 204, 205, 206, 207, 208, 209,\n",
       "        210, 211, 212, 213, 214, 215, 216, 217, 218, 219, 220, 221, 222, 223,\n",
       "        224, 225, 226, 227, 228, 229, 230, 231, 232, 233, 234, 235, 236, 237,\n",
       "        238, 239, 240, 241, 242, 243, 244, 245, 246, 247, 248, 249, 250])"
      ]
     },
     "execution_count": 24,
     "metadata": {},
     "output_type": "execute_result"
    }
   ],
   "source": [
    "torch.arange(251)"
   ]
  },
  {
   "cell_type": "code",
   "execution_count": null,
   "metadata": {},
   "outputs": [],
   "source": [
    "#so we have our two encoders, now we need to combine them in the transformer module\n",
    "\n",
    "class TransformerEncoderLayer(nn.Module):\n",
    "    \"\"\"\n",
    "    Transformer encoder layer module.\n",
    "\n",
    "    :param int d_model: the number of expected features in the input (required).\n",
    "    :param int nhead: the number of heads in the multiheadattention models (required).\n",
    "    :param int dim_feedforward: the dimension of the feedforward network model (default=2048).\n",
    "    :param float dropout: the dropout value (default=0.1).\n",
    "    :param activation: the activation function of intermediate layer, relu or gelu (default=relu).\n",
    "    \"\"\"\n",
    "\n",
    "    def __init__(\n",
    "        self,\n",
    "        d_model: int = 1024,\n",
    "        nhead: int = 8,\n",
    "        dim_feedforward: int = 2048,\n",
    "        dropout: float = 0.1,\n",
    "        activation: str = \"relu\",\n",
    "    ):\n",
    "        super().__init__()\n",
    "        self.self_attn = nn.MultiheadAttention(d_model, nhead, dropout=dropout)\n",
    "        # Implementation of Feedforward model\n",
    "        self.linear1 = nn.Linear(d_model, dim_feedforward)\n",
    "        self.dropout = nn.Dropout(dropout)\n",
    "        self.linear2 = nn.Linear(dim_feedforward, d_model)\n",
    "        self.norm1 = nn.LayerNorm(d_model)\n",
    "        \n",
    "#recommended output lol, idk how correct it is tho, let's do it manually, their scGPT class is massive for the transformer model"
   ]
  },
  {
   "cell_type": "code",
   "execution_count": null,
   "metadata": {},
   "outputs": [],
   "source": [
    "class TransformerBasic(nn.Module):\n",
    "    def __init__(self, d_model = 1024, dpout = .1, num_embeddings = 251, device = 'cpu'):\n",
    "        super().__init__()\n",
    "        self.d_model = d_model\n",
    "        self.dpout = dpout\n",
    "        self.num_embeddings = num_embeddings\n",
    "        self.cont_encoder = ContinuousValueEncoder(d_model = d_model, dropout = dpout)\n",
    "        self.cat_encoder = CategoryValueEncoder(num_embeddings = num_embeddings, embedding_dim = d_model)\n",
    "        self.cat_labels = torch.arange(num_embeddings)\n",
    "    \n",
    "    def forward(self, x: Tensor) -> Tensor:\n",
    "        encoded_cont = self.cont_encoder(x)\n",
    "        encoded_cat = self.cat_encoder(self.cat_labels).unsqueeze(0) #the unsqueeze is to add a batch dimension\n",
    "        final_embedding = encoded_cont[:] + encoded_cat\n",
    "        return final_embedding"
   ]
  },
  {
   "cell_type": "code",
   "execution_count": 26,
   "metadata": {},
   "outputs": [
    {
     "name": "stdout",
     "output_type": "stream",
     "text": [
      "torch.Size([10, 1024])\n",
      "torch.Size([10, 251, 1024])\n"
     ]
    },
    {
     "ename": "RuntimeError",
     "evalue": "The size of tensor a (10) must match the size of tensor b (251) at non-singleton dimension 1",
     "output_type": "error",
     "traceback": [
      "\u001b[0;31m---------------------------------------------------------------------------\u001b[0m",
      "\u001b[0;31mRuntimeError\u001b[0m                              Traceback (most recent call last)",
      "\u001b[1;32m/home/sat4017/PRIME/test_pipeline5.ipynb Cell 13\u001b[0m line \u001b[0;36m8\n\u001b[1;32m      <a href='vscode-notebook-cell://ssh-remote%2B7b22686f73744e616d65223a224b72756d7369656b2e6c6162227d/home/sat4017/PRIME/test_pipeline5.ipynb#X16sdnNjb2RlLXJlbW90ZQ%3D%3D?line=4'>5</a>\u001b[0m \u001b[39mprint\u001b[39m(b\u001b[39m.\u001b[39mshape)\n\u001b[1;32m      <a href='vscode-notebook-cell://ssh-remote%2B7b22686f73744e616d65223a224b72756d7369656b2e6c6162227d/home/sat4017/PRIME/test_pipeline5.ipynb#X16sdnNjb2RlLXJlbW90ZQ%3D%3D?line=6'>7</a>\u001b[0m \u001b[39m#now how do we add them together?\u001b[39;00m\n\u001b[0;32m----> <a href='vscode-notebook-cell://ssh-remote%2B7b22686f73744e616d65223a224b72756d7369656b2e6c6162227d/home/sat4017/PRIME/test_pipeline5.ipynb#X16sdnNjb2RlLXJlbW90ZQ%3D%3D?line=7'>8</a>\u001b[0m c \u001b[39m=\u001b[39m a \u001b[39m+\u001b[39;49m b\n\u001b[1;32m      <a href='vscode-notebook-cell://ssh-remote%2B7b22686f73744e616d65223a224b72756d7369656b2e6c6162227d/home/sat4017/PRIME/test_pipeline5.ipynb#X16sdnNjb2RlLXJlbW90ZQ%3D%3D?line=8'>9</a>\u001b[0m \u001b[39mprint\u001b[39m(c\u001b[39m.\u001b[39mshape)\n",
      "\u001b[0;31mRuntimeError\u001b[0m: The size of tensor a (10) must match the size of tensor b (251) at non-singleton dimension 1"
     ]
    }
   ],
   "source": [
    "#test tensor addition\n",
    "a = torch.zeros((10,1024))\n",
    "b = torch.zeros((10,251,1024))\n",
    "print(a.shape)\n",
    "print(b.shape)\n",
    "\n",
    "#now how do we add them together?\n",
    "c = a + b\n",
    "print(c.shape)"
   ]
  },
  {
   "cell_type": "code",
   "execution_count": 27,
   "metadata": {},
   "outputs": [
    {
     "name": "stdout",
     "output_type": "stream",
     "text": [
      "torch.Size([10, 1, 1024])\n",
      "torch.Size([10, 251, 1024])\n"
     ]
    }
   ],
   "source": [
    "a2 = a.unsqueeze(1)\n",
    "print(a2.shape)\n",
    "\n",
    "c = a2 + b\n",
    "print(c.shape)"
   ]
  },
  {
   "cell_type": "code",
   "execution_count": 28,
   "metadata": {},
   "outputs": [
    {
     "data": {
      "text/plain": [
       "torch.Size([1, 10, 1024])"
      ]
     },
     "execution_count": 28,
     "metadata": {},
     "output_type": "execute_result"
    }
   ],
   "source": [
    "a.unsqueeze(0).shape"
   ]
  },
  {
   "cell_type": "code",
   "execution_count": 32,
   "metadata": {},
   "outputs": [],
   "source": [
    "class TransformerBasic(nn.Module):\n",
    "    def __init__(self, d_model = 1024, dpout = .1, num_embeddings = 251, device = 'cpu'):\n",
    "        super().__init__()\n",
    "        self.d_model = d_model\n",
    "        self.dpout = dpout\n",
    "        self.num_embeddings = num_embeddings\n",
    "        self.cont_encoder = ContinuousValueEncoder(d_model = d_model, dropout = dpout)\n",
    "        self.cat_encoder = CategoryValueEncoder(num_embeddings = num_embeddings, embedding_dim = d_model)\n",
    "        self.cat_labels = torch.arange(num_embeddings)\n",
    "    \n",
    "    def forward(self, x: Tensor) -> Tensor:\n",
    "        encoded_cont = self.cont_encoder(x)\n",
    "        encoded_cat = self.cat_encoder(self.cat_labels).unsqueeze(0) #the unsqueeze is to add a batch dimension\n",
    "        final_embedding = encoded_cont + encoded_cat\n",
    "        return final_embedding\n",
    "    \n",
    "transformer = TransformerBasic()"
   ]
  },
  {
   "cell_type": "code",
   "execution_count": 33,
   "metadata": {},
   "outputs": [
    {
     "name": "stdout",
     "output_type": "stream",
     "text": [
      "torch.Size([2, 251])\n",
      "torch.Size([2, 251, 1024])\n"
     ]
    }
   ],
   "source": [
    "print(x.shape)\n",
    "y = transformer(x)\n",
    "print(y.shape)\n",
    "#this part itself seems to work, but now we'd need to pretrain our model which is definitely a lot\n",
    "#this will train it via backprop"
   ]
  },
  {
   "cell_type": "markdown",
   "metadata": {},
   "source": [
    "# encoding scheme is done, but now wtf do I do?\n",
    "# PL and figuring out the distribution of age/BMI/sex"
   ]
  },
  {
   "cell_type": "code",
   "execution_count": 1,
   "metadata": {},
   "outputs": [
    {
     "name": "stderr",
     "output_type": "stream",
     "text": [
      "Seed set to 42\n"
     ]
    }
   ],
   "source": [
    "import numpy as np\n",
    "import matplotlib.pyplot as plt\n",
    "import pandas as pd\n",
    "import seaborn as sns\n",
    "import os\n",
    "import torch\n",
    "import torch.nn as nn\n",
    "import pytorch_lightning as pl\n",
    "from pytorch_lightning import seed_everything\n",
    "from torch import Tensor\n",
    "\n",
    "seed_everything(42)\n",
    "\n",
    "\n",
    "from utils import *\n",
    "from sklearn.metrics import mean_squared_error\n",
    "# from transformers import GPT2Model, GPT2Tokenizer\n",
    "\n",
    "dataloader = LoadData(impute='KNN',load = True)\n",
    "cv = CV(dataloader)\n",
    "# here's the stolen class\n",
    "\n",
    "class ContinuousValueEncoder(nn.Module):\n",
    "    \"\"\"\n",
    "    Encode real number values to a vector using neural nets projection.\n",
    "    \"\"\"\n",
    "\n",
    "    def __init__(self, d_model: int = 1024, dropout: float = 0.1, max_value: int = 512):\n",
    "        super().__init__()\n",
    "        self.dropout = nn.Dropout(p=dropout)\n",
    "        self.linear1 = nn.Linear(1, d_model)\n",
    "        self.activation = nn.ReLU()\n",
    "        self.linear2 = nn.Linear(d_model, d_model)\n",
    "        self.norm = nn.LayerNorm(d_model)\n",
    "        self.max_value = max_value\n",
    "\n",
    "    def forward(self, x: Tensor) -> Tensor:\n",
    "        \"\"\"\n",
    "        Args:\n",
    "            x: Tensor, shape [batch_size, seq_len]\n",
    "        \"\"\"\n",
    "        # TODO: test using actual embedding layer if input is categorical\n",
    "        # expand last dimension\n",
    "        x = x.unsqueeze(-1)\n",
    "        # clip x to [-inf, max_value]\n",
    "        #x = torch.clamp(x, max=self.max_value) # Ignored for now, doesn't really make sense\n",
    "        x = self.activation(self.linear1(x))\n",
    "        x = self.linear2(x)\n",
    "        x = self.norm(x)\n",
    "        return self.dropout(x)\n",
    "    \n",
    "class CategoryValueEncoder(nn.Module):\n",
    "    def __init__(\n",
    "        self,\n",
    "        num_embeddings: int,\n",
    "        embedding_dim: int,\n",
    "        padding_idx: int = None,\n",
    "    ):\n",
    "        super().__init__()\n",
    "        self.embedding = nn.Embedding(\n",
    "            num_embeddings, embedding_dim, padding_idx=padding_idx\n",
    "        )\n",
    "        self.enc_norm = nn.LayerNorm(embedding_dim)\n",
    "\n",
    "    def forward(self, x: Tensor) -> Tensor:\n",
    "        x = x.long()\n",
    "        x = self.embedding(x)  # (batch, seq_len, embsize)\n",
    "        x = self.enc_norm(x)\n",
    "        return x\n",
    "    \n",
    "#num embeddings means input the metabolite index which is 0 to 251\n",
    "\n",
    "class TransformerBasic(nn.Module):\n",
    "    def __init__(self, d_model = 1024, dpout = .1, num_embeddings = 251, device = 'cpu'):\n",
    "        super().__init__()\n",
    "        self.d_model = d_model\n",
    "        self.dpout = dpout\n",
    "        self.num_embeddings = num_embeddings\n",
    "        self.cont_encoder = ContinuousValueEncoder(d_model = d_model, dropout = dpout)\n",
    "        self.cat_encoder = CategoryValueEncoder(num_embeddings = num_embeddings, embedding_dim = d_model)\n",
    "        self.cat_labels = torch.arange(num_embeddings)\n",
    "    \n",
    "    def forward(self, x: Tensor) -> Tensor:\n",
    "        encoded_cont = self.cont_encoder(x)\n",
    "        encoded_cat = self.cat_encoder(self.cat_labels).unsqueeze(0) #the unsqueeze is to add a batch dimension\n",
    "        final_embedding = encoded_cont + encoded_cat\n",
    "        return final_embedding\n",
    "    \n",
    "transformer = TransformerBasic()"
   ]
  },
  {
   "cell_type": "code",
   "execution_count": null,
   "metadata": {},
   "outputs": [],
   "source": [
    "\n",
    "\n",
    "class TransformerBasicLightning(pl.LightningModule):\n",
    "    def __init__(self, d_model=1024, dpout=0.1, num_embeddings=251, device='cpu'):\n",
    "        super().__init__()\n",
    "        self.d_model = d_model\n",
    "        self.dpout = dpout\n",
    "        self.num_embeddings = num_embeddings\n",
    "        self.cont_encoder = ContinuousValueEncoder(d_model=d_model, dropout=dpout)\n",
    "        self.cat_encoder = CategoryValueEncoder(num_embeddings=num_embeddings, embedding_dim=d_model)\n",
    "        self.cat_labels = torch.arange(num_embeddings)\n",
    "\n",
    "    def forward(self, x: Tensor) -> Tensor:\n",
    "        encoded_cont = self.cont_encoder(x)\n",
    "        encoded_cat = self.cat_encoder(self.cat_labels).unsqueeze(0)  # the unsqueeze is to add a batch dimension\n",
    "        final_embedding = encoded_cont + encoded_cat\n",
    "        return final_embedding\n",
    "\n",
    "    def training_step(self, batch, batch_idx):\n",
    "        # Extract data from batch and perform a forward pass\n",
    "        # Then calculate the loss and return it\n",
    "        x, y = batch\n",
    "        y_hat = self(x)\n",
    "        loss = some_loss_function(y_hat, y)  # replace with your actual loss function\n",
    "        return loss\n",
    "\n",
    "    def configure_optimizers(self):\n",
    "        optimizer = torch.optim.Adam(self.parameters(), lr=1e-3)\n",
    "        return optimizer\n",
    "\n",
    "    # Define validation_step and test_step if needed\n"
   ]
  },
  {
   "cell_type": "code",
   "execution_count": 4,
   "metadata": {},
   "outputs": [
    {
     "name": "stdout",
     "output_type": "stream",
     "text": [
      "(25818,) (25818,) (25818,)\n",
      "[1. 0. 1.]\n"
     ]
    }
   ],
   "source": [
    "#very quickly bmi/sex/age plots\n",
    "\n",
    "bmi = cv.demographic_vec('bmi')\n",
    "age = cv.demographic_vec('age')\n",
    "sex = cv.demographic_vec('sex')\n",
    "print(bmi.shape,age.shape,sex.shape)\n",
    "print(sex[0:3])"
   ]
  },
  {
   "cell_type": "code",
   "execution_count": 6,
   "metadata": {},
   "outputs": [
    {
     "data": {
      "text/plain": [
       "(array([13708.,     0.,     0.,     0.,     0.,     0.,     0.,     0.,\n",
       "            0., 12110.]),\n",
       " array([0. , 0.1, 0.2, 0.3, 0.4, 0.5, 0.6, 0.7, 0.8, 0.9, 1. ]),\n",
       " <BarContainer object of 10 artists>)"
      ]
     },
     "execution_count": 6,
     "metadata": {},
     "output_type": "execute_result"
    },
    {
     "data": {
      "image/png": "[encoded data removed]",
      "text/plain": [
       "<Figure size 640x480 with 1 Axes>"
      ]
     },
     "metadata": {},
     "output_type": "display_data"
    }
   ],
   "source": [
    "#now let's do a violin plot for sex using seaborn\n",
    "\n",
    "plt.hist(sex)\n",
    "#see it's quite similar"
   ]
  },
  {
   "cell_type": "code",
   "execution_count": 8,
   "metadata": {},
   "outputs": [
    {
     "data": {
      "image/png": "[encoded data removed]",
      "text/plain": [
       "<Figure size 640x480 with 1 Axes>"
      ]
     },
     "metadata": {},
     "output_type": "display_data"
    }
   ],
   "source": [
    "#now do a violin plot of bmi based on sex\n",
    "data = pd.DataFrame({'Sex': sex, 'BMI': bmi})\n",
    "\n",
    "# Create a violin plot\n",
    "sns.violinplot(x='Sex', y='BMI', data=data)\n",
    "\n",
    "# Display the plot\n",
    "plt.title(\"Violin Plot of BMI Stratified by Sex\")\n",
    "plt.xlabel(\"Sex\")\n",
    "plt.ylabel(\"BMI\")\n",
    "plt.show()\n",
    "#you can see they're quite similar, and are pretty good, now let's do a histogram stratified by sex as well\n"
   ]
  },
  {
   "cell_type": "code",
   "execution_count": 14,
   "metadata": {},
   "outputs": [
    {
     "data": {
      "image/png": "[encoded data removed]",
      "text/plain": [
       "<Figure size 640x480 with 1 Axes>"
      ]
     },
     "metadata": {},
     "output_type": "display_data"
    },
    {
     "data": {
      "image/png": "[encoded data removed]",
      "text/plain": [
       "<Figure size 640x480 with 1 Axes>"
      ]
     },
     "metadata": {},
     "output_type": "display_data"
    }
   ],
   "source": [
    "#now the histogram\n",
    "male_bmi = bmi[sex==0]\n",
    "female_bmi = bmi[sex==1]\n",
    "\n",
    "plt.hist(male_bmi, color='blue', alpha=0.7, label='Male', bins=100)\n",
    "plt.hist(female_bmi, color='red', alpha=0.7, label='Female', bins=100)\n",
    "plt.show()\n",
    "\n",
    "plt.hist(bmi, bins = 100)\n",
    "plt.show()\n",
    "\n",
    "#bmi whether by sex or not is veyr lognormal!"
   ]
  },
  {
   "cell_type": "code",
   "execution_count": 17,
   "metadata": {},
   "outputs": [
    {
     "data": {
      "text/plain": [
       "(array([ 290.,  555.,  524.,  588.,  636.,  635.,  607.,  645.,  613.,\n",
       "         647.,  686.,  761.,  754.,  756.,  772.,  797.,  892.,  856.,\n",
       "         934.,  981., 1224., 1390., 1349., 1193., 1154., 1211., 1136.,\n",
       "        1048., 1000., 1184.]),\n",
       " array([39.        , 40.03333333, 41.06666667, 42.1       , 43.13333333,\n",
       "        44.16666667, 45.2       , 46.23333333, 47.26666667, 48.3       ,\n",
       "        49.33333333, 50.36666667, 51.4       , 52.43333333, 53.46666667,\n",
       "        54.5       , 55.53333333, 56.56666667, 57.6       , 58.63333333,\n",
       "        59.66666667, 60.7       , 61.73333333, 62.76666667, 63.8       ,\n",
       "        64.83333333, 65.86666667, 66.9       , 67.93333333, 68.96666667,\n",
       "        70.        ]),\n",
       " <BarContainer object of 30 artists>)"
      ]
     },
     "execution_count": 17,
     "metadata": {},
     "output_type": "execute_result"
    },
    {
     "data": {
      "image/png": "[encoded data removed]",
      "text/plain": [
       "<Figure size 640x480 with 1 Axes>"
      ]
     },
     "metadata": {},
     "output_type": "display_data"
    }
   ],
   "source": [
    "#now do for age\n",
    "plt.hist(age, bins = 30)"
   ]
  },
  {
   "cell_type": "code",
   "execution_count": 24,
   "metadata": {},
   "outputs": [
    {
     "name": "stdout",
     "output_type": "stream",
     "text": [
      "3.302698849019496 0.16570285818267133\n"
     ]
    }
   ],
   "source": [
    "#now let's find the parameters of the lognormal distribution BMI vector\n",
    "from scipy.stats import norm\n",
    "log_bmi = np.log(bmi[np.isnan(bmi)==False])\n",
    "\n",
    "mu, sigma = norm.fit(log_bmi)\n",
    "print(mu,sigma)"
   ]
  },
  {
   "cell_type": "code",
   "execution_count": 23,
   "metadata": {},
   "outputs": [
    {
     "name": "stdout",
     "output_type": "stream",
     "text": [
      "134\n",
      "0\n",
      "0\n"
     ]
    }
   ],
   "source": [
    "#find how many nan in BMI\n",
    "print(np.sum(np.isnan(bmi))) #just some nans for BMI...?\n",
    "#now for age and sex\n",
    "print(np.sum(np.isnan(age)))\n",
    "print(np.sum(np.isnan(sex)))"
   ]
  },
  {
   "cell_type": "code",
   "execution_count": 26,
   "metadata": {},
   "outputs": [
    {
     "name": "stdout",
     "output_type": "stream",
     "text": [
      "0.5309474010380355\n"
     ]
    }
   ],
   "source": [
    "num0 = np.sum(sex ==0)\n",
    "num1 = np.sum(sex==1)\n",
    "print(num0/(num1+num0))"
   ]
  }
 ],
 "metadata": {
  "kernelspec": {
   "display_name": "prot_torch",
   "language": "python",
   "name": "python3"
  },
  "language_info": {
   "codemirror_mode": {
    "name": "ipython",
    "version": 3
   },
   "file_extension": ".py",
   "mimetype": "text/x-python",
   "name": "python",
   "nbconvert_exporter": "python",
   "pygments_lexer": "ipython3",
   "version": "3.11.6"
  }
 },
 "nbformat": 4,
 "nbformat_minor": 2
}
